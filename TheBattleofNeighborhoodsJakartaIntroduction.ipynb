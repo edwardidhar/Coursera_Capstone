{
 "cells": [
  {
   "cell_type": "markdown",
   "metadata": {},
   "source": [
    "<a href=\"https://en.wikipedia.org/wiki/Jakarta\"><img src = \"https://upload.wikimedia.org/wikipedia/commons/e/eb/Coat_of_arms_of_Jakarta.svg\" width = 100> </a>\n",
    "\n",
    "<h1 align=center><font size = 5>Segmenting and Clustering Neighborhoods in Jakarta City</font></h1>"
   ]
  },
  {
   "cell_type": "markdown",
   "metadata": {},
   "source": [
    "## Introduction\n",
    "\n",
    "In this project, we are going to analyse the segmenting and clustering neighborhoods in <a href=\"https://en.wikipedia.org/wiki/Jakarta\">Jakarta</a> (Capital City of Indonesia).  We are going to use ready data from <a href=\"https://jakarta.bps.go.id/\">Biro Pusat Statistic</a> (Statistics Indonesia), convert addresses into their equivalent latitude and longitude values. Also, we will use the <a href=\"https://foursquare.com/\">Foursquare API</a> to explore neighborhoods. We will use the **explore** function to get the most common venue categories in each neighborhood, and then use this feature to group the neighborhoods into clusters. We will use the _k_-means clustering algorithm to complete this task with Silhouette and Elbow Method to determine the number of clusters. We will use the Folium library to visualize the neighborhoods in Jakarta and their emerging clusters.\n",
    "Finally once each of neighbourhood is recognized, then we will propose the possible business to be done based on that Foursquare Venues.\n",
    "This infomation will be used by an investor to determine correct investment for each neighborhood in Jakarta.\n"
   ]
  }
 ],
 "metadata": {
  "kernelspec": {
   "display_name": "Python 3",
   "language": "python",
   "name": "python3"
  },
  "language_info": {
   "codemirror_mode": {
    "name": "ipython",
    "version": 3
   },
   "file_extension": ".py",
   "mimetype": "text/x-python",
   "name": "python",
   "nbconvert_exporter": "python",
   "pygments_lexer": "ipython3",
   "version": "3.8.5"
  },
  "widgets": {
   "state": {},
   "version": "1.1.2"
  }
 },
 "nbformat": 4,
 "nbformat_minor": 2
}
